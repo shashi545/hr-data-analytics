{
 "cells": [
  {
   "cell_type": "markdown",
   "metadata": {},
   "source": [
    "**importing libraries and dataet**"
   ]
  },
  {
   "cell_type": "code",
   "execution_count": 1,
   "metadata": {},
   "outputs": [],
   "source": [
    "import numpy as np\n",
    "import pandas as pd\n",
    "import matplotlib.pyplot as plt\n",
    "%matplotlib inline\n",
    "import seaborn as sns\n",
    "import warnings\n",
    "warnings.filterwarnings('ignore')\n",
    "import pickle"
   ]
  },
  {
   "cell_type": "code",
   "execution_count": 2,
   "metadata": {},
   "outputs": [
    {
     "data": {
      "text/html": [
       "<div>\n",
       "<style scoped>\n",
       "    .dataframe tbody tr th:only-of-type {\n",
       "        vertical-align: middle;\n",
       "    }\n",
       "\n",
       "    .dataframe tbody tr th {\n",
       "        vertical-align: top;\n",
       "    }\n",
       "\n",
       "    .dataframe thead th {\n",
       "        text-align: right;\n",
       "    }\n",
       "</style>\n",
       "<table border=\"1\" class=\"dataframe\">\n",
       "  <thead>\n",
       "    <tr style=\"text-align: right;\">\n",
       "      <th></th>\n",
       "      <th>SLNO</th>\n",
       "      <th>Candidate.Ref</th>\n",
       "      <th>DOJ.Extended</th>\n",
       "      <th>Duration.to.accept.offer</th>\n",
       "      <th>Notice.period</th>\n",
       "      <th>Offered.band</th>\n",
       "      <th>Pecent.hike.expected.in.CTC</th>\n",
       "      <th>Percent.hike.offered.in.CTC</th>\n",
       "      <th>Percent.difference.CTC</th>\n",
       "      <th>Joining.Bonus</th>\n",
       "      <th>Candidate.relocate.actual</th>\n",
       "      <th>Gender</th>\n",
       "      <th>Candidate.Source</th>\n",
       "      <th>Rex.in.Yrs</th>\n",
       "      <th>LOB</th>\n",
       "      <th>Location</th>\n",
       "      <th>Age</th>\n",
       "      <th>Status</th>\n",
       "    </tr>\n",
       "  </thead>\n",
       "  <tbody>\n",
       "    <tr>\n",
       "      <th>0</th>\n",
       "      <td>1</td>\n",
       "      <td>2110407</td>\n",
       "      <td>Yes</td>\n",
       "      <td>14</td>\n",
       "      <td>30</td>\n",
       "      <td>E2</td>\n",
       "      <td>-20.79</td>\n",
       "      <td>13.16</td>\n",
       "      <td>42.86</td>\n",
       "      <td>No</td>\n",
       "      <td>No</td>\n",
       "      <td>Female</td>\n",
       "      <td>Agency</td>\n",
       "      <td>7</td>\n",
       "      <td>ERS</td>\n",
       "      <td>Noida</td>\n",
       "      <td>34</td>\n",
       "      <td>Joined</td>\n",
       "    </tr>\n",
       "    <tr>\n",
       "      <th>1</th>\n",
       "      <td>2</td>\n",
       "      <td>2112635</td>\n",
       "      <td>No</td>\n",
       "      <td>18</td>\n",
       "      <td>30</td>\n",
       "      <td>E2</td>\n",
       "      <td>50.00</td>\n",
       "      <td>320.00</td>\n",
       "      <td>180.00</td>\n",
       "      <td>No</td>\n",
       "      <td>No</td>\n",
       "      <td>Male</td>\n",
       "      <td>Employee Referral</td>\n",
       "      <td>8</td>\n",
       "      <td>INFRA</td>\n",
       "      <td>Chennai</td>\n",
       "      <td>34</td>\n",
       "      <td>Joined</td>\n",
       "    </tr>\n",
       "    <tr>\n",
       "      <th>2</th>\n",
       "      <td>3</td>\n",
       "      <td>2112838</td>\n",
       "      <td>No</td>\n",
       "      <td>3</td>\n",
       "      <td>45</td>\n",
       "      <td>E2</td>\n",
       "      <td>42.84</td>\n",
       "      <td>42.84</td>\n",
       "      <td>0.00</td>\n",
       "      <td>No</td>\n",
       "      <td>No</td>\n",
       "      <td>Male</td>\n",
       "      <td>Agency</td>\n",
       "      <td>4</td>\n",
       "      <td>INFRA</td>\n",
       "      <td>Noida</td>\n",
       "      <td>27</td>\n",
       "      <td>Joined</td>\n",
       "    </tr>\n",
       "    <tr>\n",
       "      <th>3</th>\n",
       "      <td>4</td>\n",
       "      <td>2115021</td>\n",
       "      <td>No</td>\n",
       "      <td>26</td>\n",
       "      <td>30</td>\n",
       "      <td>E2</td>\n",
       "      <td>42.84</td>\n",
       "      <td>42.84</td>\n",
       "      <td>0.00</td>\n",
       "      <td>No</td>\n",
       "      <td>No</td>\n",
       "      <td>Male</td>\n",
       "      <td>Employee Referral</td>\n",
       "      <td>4</td>\n",
       "      <td>INFRA</td>\n",
       "      <td>Noida</td>\n",
       "      <td>34</td>\n",
       "      <td>Joined</td>\n",
       "    </tr>\n",
       "    <tr>\n",
       "      <th>4</th>\n",
       "      <td>5</td>\n",
       "      <td>2115125</td>\n",
       "      <td>Yes</td>\n",
       "      <td>1</td>\n",
       "      <td>120</td>\n",
       "      <td>E2</td>\n",
       "      <td>42.59</td>\n",
       "      <td>42.59</td>\n",
       "      <td>0.00</td>\n",
       "      <td>No</td>\n",
       "      <td>Yes</td>\n",
       "      <td>Male</td>\n",
       "      <td>Employee Referral</td>\n",
       "      <td>6</td>\n",
       "      <td>INFRA</td>\n",
       "      <td>Noida</td>\n",
       "      <td>34</td>\n",
       "      <td>Joined</td>\n",
       "    </tr>\n",
       "  </tbody>\n",
       "</table>\n",
       "</div>"
      ],
      "text/plain": [
       "   SLNO  Candidate.Ref DOJ.Extended  Duration.to.accept.offer  Notice.period  \\\n",
       "0     1        2110407          Yes                        14             30   \n",
       "1     2        2112635           No                        18             30   \n",
       "2     3        2112838           No                         3             45   \n",
       "3     4        2115021           No                        26             30   \n",
       "4     5        2115125          Yes                         1            120   \n",
       "\n",
       "  Offered.band  Pecent.hike.expected.in.CTC  Percent.hike.offered.in.CTC  \\\n",
       "0           E2                       -20.79                        13.16   \n",
       "1           E2                        50.00                       320.00   \n",
       "2           E2                        42.84                        42.84   \n",
       "3           E2                        42.84                        42.84   \n",
       "4           E2                        42.59                        42.59   \n",
       "\n",
       "   Percent.difference.CTC Joining.Bonus Candidate.relocate.actual  Gender  \\\n",
       "0                   42.86            No                        No  Female   \n",
       "1                  180.00            No                        No    Male   \n",
       "2                    0.00            No                        No    Male   \n",
       "3                    0.00            No                        No    Male   \n",
       "4                    0.00            No                       Yes    Male   \n",
       "\n",
       "    Candidate.Source  Rex.in.Yrs    LOB Location  Age  Status  \n",
       "0             Agency           7    ERS    Noida   34  Joined  \n",
       "1  Employee Referral           8  INFRA  Chennai   34  Joined  \n",
       "2             Agency           4  INFRA    Noida   27  Joined  \n",
       "3  Employee Referral           4  INFRA    Noida   34  Joined  \n",
       "4  Employee Referral           6  INFRA    Noida   34  Joined  "
      ]
     },
     "execution_count": 2,
     "metadata": {},
     "output_type": "execute_result"
    }
   ],
   "source": [
    "df=pd.read_csv('HR_data.csv')\n",
    "df.head()"
   ]
  },
  {
   "cell_type": "code",
   "execution_count": 3,
   "metadata": {},
   "outputs": [
    {
     "data": {
      "text/plain": [
       "SLNO                           0\n",
       "Candidate.Ref                  0\n",
       "DOJ.Extended                   0\n",
       "Duration.to.accept.offer       0\n",
       "Notice.period                  0\n",
       "Offered.band                   0\n",
       "Pecent.hike.expected.in.CTC    0\n",
       "Percent.hike.offered.in.CTC    0\n",
       "Percent.difference.CTC         0\n",
       "Joining.Bonus                  0\n",
       "Candidate.relocate.actual      0\n",
       "Gender                         0\n",
       "Candidate.Source               0\n",
       "Rex.in.Yrs                     0\n",
       "LOB                            0\n",
       "Location                       0\n",
       "Age                            0\n",
       "Status                         0\n",
       "dtype: int64"
      ]
     },
     "execution_count": 3,
     "metadata": {},
     "output_type": "execute_result"
    }
   ],
   "source": [
    "df.isnull().sum()"
   ]
  },
  {
   "cell_type": "code",
   "execution_count": 4,
   "metadata": {},
   "outputs": [
    {
     "name": "stdout",
     "output_type": "stream",
     "text": [
      "<class 'pandas.core.frame.DataFrame'>\n",
      "RangeIndex: 8995 entries, 0 to 8994\n",
      "Data columns (total 18 columns):\n",
      "SLNO                           8995 non-null int64\n",
      "Candidate.Ref                  8995 non-null int64\n",
      "DOJ.Extended                   8995 non-null object\n",
      "Duration.to.accept.offer       8995 non-null int64\n",
      "Notice.period                  8995 non-null int64\n",
      "Offered.band                   8995 non-null object\n",
      "Pecent.hike.expected.in.CTC    8995 non-null float64\n",
      "Percent.hike.offered.in.CTC    8995 non-null float64\n",
      "Percent.difference.CTC         8995 non-null float64\n",
      "Joining.Bonus                  8995 non-null object\n",
      "Candidate.relocate.actual      8995 non-null object\n",
      "Gender                         8995 non-null object\n",
      "Candidate.Source               8995 non-null object\n",
      "Rex.in.Yrs                     8995 non-null int64\n",
      "LOB                            8995 non-null object\n",
      "Location                       8995 non-null object\n",
      "Age                            8995 non-null int64\n",
      "Status                         8995 non-null object\n",
      "dtypes: float64(3), int64(6), object(9)\n",
      "memory usage: 1.2+ MB\n"
     ]
    }
   ],
   "source": [
    "df.info()"
   ]
  },
  {
   "cell_type": "markdown",
   "metadata": {},
   "source": [
    "# Finding the co-realtion"
   ]
  },
  {
   "cell_type": "code",
   "execution_count": 5,
   "metadata": {},
   "outputs": [
    {
     "data": {
      "text/html": [
       "<div>\n",
       "<style scoped>\n",
       "    .dataframe tbody tr th:only-of-type {\n",
       "        vertical-align: middle;\n",
       "    }\n",
       "\n",
       "    .dataframe tbody tr th {\n",
       "        vertical-align: top;\n",
       "    }\n",
       "\n",
       "    .dataframe thead th {\n",
       "        text-align: right;\n",
       "    }\n",
       "</style>\n",
       "<table border=\"1\" class=\"dataframe\">\n",
       "  <thead>\n",
       "    <tr style=\"text-align: right;\">\n",
       "      <th></th>\n",
       "      <th>SLNO</th>\n",
       "      <th>Candidate.Ref</th>\n",
       "      <th>Duration.to.accept.offer</th>\n",
       "      <th>Notice.period</th>\n",
       "      <th>Pecent.hike.expected.in.CTC</th>\n",
       "      <th>Percent.hike.offered.in.CTC</th>\n",
       "      <th>Percent.difference.CTC</th>\n",
       "      <th>Rex.in.Yrs</th>\n",
       "      <th>Age</th>\n",
       "    </tr>\n",
       "  </thead>\n",
       "  <tbody>\n",
       "    <tr>\n",
       "      <th>SLNO</th>\n",
       "      <td>1.000000</td>\n",
       "      <td>0.898788</td>\n",
       "      <td>-0.030136</td>\n",
       "      <td>-0.098491</td>\n",
       "      <td>0.048984</td>\n",
       "      <td>0.018101</td>\n",
       "      <td>-0.043523</td>\n",
       "      <td>-0.061839</td>\n",
       "      <td>0.318025</td>\n",
       "    </tr>\n",
       "    <tr>\n",
       "      <th>Candidate.Ref</th>\n",
       "      <td>0.898788</td>\n",
       "      <td>1.000000</td>\n",
       "      <td>-0.030752</td>\n",
       "      <td>-0.120810</td>\n",
       "      <td>0.077124</td>\n",
       "      <td>0.044828</td>\n",
       "      <td>-0.016667</td>\n",
       "      <td>-0.047440</td>\n",
       "      <td>0.306520</td>\n",
       "    </tr>\n",
       "    <tr>\n",
       "      <th>Duration.to.accept.offer</th>\n",
       "      <td>-0.030136</td>\n",
       "      <td>-0.030752</td>\n",
       "      <td>1.000000</td>\n",
       "      <td>0.363760</td>\n",
       "      <td>0.018821</td>\n",
       "      <td>0.007307</td>\n",
       "      <td>-0.009395</td>\n",
       "      <td>0.113951</td>\n",
       "      <td>0.020131</td>\n",
       "    </tr>\n",
       "    <tr>\n",
       "      <th>Notice.period</th>\n",
       "      <td>-0.098491</td>\n",
       "      <td>-0.120810</td>\n",
       "      <td>0.363760</td>\n",
       "      <td>1.000000</td>\n",
       "      <td>-0.005262</td>\n",
       "      <td>-0.013458</td>\n",
       "      <td>-0.015067</td>\n",
       "      <td>0.181786</td>\n",
       "      <td>-0.004967</td>\n",
       "    </tr>\n",
       "    <tr>\n",
       "      <th>Pecent.hike.expected.in.CTC</th>\n",
       "      <td>0.048984</td>\n",
       "      <td>0.077124</td>\n",
       "      <td>0.018821</td>\n",
       "      <td>-0.005262</td>\n",
       "      <td>1.000000</td>\n",
       "      <td>0.668594</td>\n",
       "      <td>-0.161501</td>\n",
       "      <td>-0.217391</td>\n",
       "      <td>-0.137705</td>\n",
       "    </tr>\n",
       "    <tr>\n",
       "      <th>Percent.hike.offered.in.CTC</th>\n",
       "      <td>0.018101</td>\n",
       "      <td>0.044828</td>\n",
       "      <td>0.007307</td>\n",
       "      <td>-0.013458</td>\n",
       "      <td>0.668594</td>\n",
       "      <td>1.000000</td>\n",
       "      <td>0.598779</td>\n",
       "      <td>-0.110243</td>\n",
       "      <td>-0.080010</td>\n",
       "    </tr>\n",
       "    <tr>\n",
       "      <th>Percent.difference.CTC</th>\n",
       "      <td>-0.043523</td>\n",
       "      <td>-0.016667</td>\n",
       "      <td>-0.009395</td>\n",
       "      <td>-0.015067</td>\n",
       "      <td>-0.161501</td>\n",
       "      <td>0.598779</td>\n",
       "      <td>1.000000</td>\n",
       "      <td>0.081547</td>\n",
       "      <td>0.037955</td>\n",
       "    </tr>\n",
       "    <tr>\n",
       "      <th>Rex.in.Yrs</th>\n",
       "      <td>-0.061839</td>\n",
       "      <td>-0.047440</td>\n",
       "      <td>0.113951</td>\n",
       "      <td>0.181786</td>\n",
       "      <td>-0.217391</td>\n",
       "      <td>-0.110243</td>\n",
       "      <td>0.081547</td>\n",
       "      <td>1.000000</td>\n",
       "      <td>0.568228</td>\n",
       "    </tr>\n",
       "    <tr>\n",
       "      <th>Age</th>\n",
       "      <td>0.318025</td>\n",
       "      <td>0.306520</td>\n",
       "      <td>0.020131</td>\n",
       "      <td>-0.004967</td>\n",
       "      <td>-0.137705</td>\n",
       "      <td>-0.080010</td>\n",
       "      <td>0.037955</td>\n",
       "      <td>0.568228</td>\n",
       "      <td>1.000000</td>\n",
       "    </tr>\n",
       "  </tbody>\n",
       "</table>\n",
       "</div>"
      ],
      "text/plain": [
       "                                 SLNO  Candidate.Ref  \\\n",
       "SLNO                         1.000000       0.898788   \n",
       "Candidate.Ref                0.898788       1.000000   \n",
       "Duration.to.accept.offer    -0.030136      -0.030752   \n",
       "Notice.period               -0.098491      -0.120810   \n",
       "Pecent.hike.expected.in.CTC  0.048984       0.077124   \n",
       "Percent.hike.offered.in.CTC  0.018101       0.044828   \n",
       "Percent.difference.CTC      -0.043523      -0.016667   \n",
       "Rex.in.Yrs                  -0.061839      -0.047440   \n",
       "Age                          0.318025       0.306520   \n",
       "\n",
       "                             Duration.to.accept.offer  Notice.period  \\\n",
       "SLNO                                        -0.030136      -0.098491   \n",
       "Candidate.Ref                               -0.030752      -0.120810   \n",
       "Duration.to.accept.offer                     1.000000       0.363760   \n",
       "Notice.period                                0.363760       1.000000   \n",
       "Pecent.hike.expected.in.CTC                  0.018821      -0.005262   \n",
       "Percent.hike.offered.in.CTC                  0.007307      -0.013458   \n",
       "Percent.difference.CTC                      -0.009395      -0.015067   \n",
       "Rex.in.Yrs                                   0.113951       0.181786   \n",
       "Age                                          0.020131      -0.004967   \n",
       "\n",
       "                             Pecent.hike.expected.in.CTC  \\\n",
       "SLNO                                            0.048984   \n",
       "Candidate.Ref                                   0.077124   \n",
       "Duration.to.accept.offer                        0.018821   \n",
       "Notice.period                                  -0.005262   \n",
       "Pecent.hike.expected.in.CTC                     1.000000   \n",
       "Percent.hike.offered.in.CTC                     0.668594   \n",
       "Percent.difference.CTC                         -0.161501   \n",
       "Rex.in.Yrs                                     -0.217391   \n",
       "Age                                            -0.137705   \n",
       "\n",
       "                             Percent.hike.offered.in.CTC  \\\n",
       "SLNO                                            0.018101   \n",
       "Candidate.Ref                                   0.044828   \n",
       "Duration.to.accept.offer                        0.007307   \n",
       "Notice.period                                  -0.013458   \n",
       "Pecent.hike.expected.in.CTC                     0.668594   \n",
       "Percent.hike.offered.in.CTC                     1.000000   \n",
       "Percent.difference.CTC                          0.598779   \n",
       "Rex.in.Yrs                                     -0.110243   \n",
       "Age                                            -0.080010   \n",
       "\n",
       "                             Percent.difference.CTC  Rex.in.Yrs       Age  \n",
       "SLNO                                      -0.043523   -0.061839  0.318025  \n",
       "Candidate.Ref                             -0.016667   -0.047440  0.306520  \n",
       "Duration.to.accept.offer                  -0.009395    0.113951  0.020131  \n",
       "Notice.period                             -0.015067    0.181786 -0.004967  \n",
       "Pecent.hike.expected.in.CTC               -0.161501   -0.217391 -0.137705  \n",
       "Percent.hike.offered.in.CTC                0.598779   -0.110243 -0.080010  \n",
       "Percent.difference.CTC                     1.000000    0.081547  0.037955  \n",
       "Rex.in.Yrs                                 0.081547    1.000000  0.568228  \n",
       "Age                                        0.037955    0.568228  1.000000  "
      ]
     },
     "execution_count": 5,
     "metadata": {},
     "output_type": "execute_result"
    }
   ],
   "source": [
    "df.corr()"
   ]
  },
  {
   "cell_type": "markdown",
   "metadata": {},
   "source": [
    "# Adding Dummies"
   ]
  },
  {
   "cell_type": "code",
   "execution_count": 6,
   "metadata": {},
   "outputs": [],
   "source": [
    "df_dum=pd.get_dummies(df,drop_first=True)"
   ]
  },
  {
   "cell_type": "code",
   "execution_count": 7,
   "metadata": {},
   "outputs": [
    {
     "data": {
      "text/plain": [
       "Joined        7313\n",
       "Not Joined    1682\n",
       "Name: Status, dtype: int64"
      ]
     },
     "execution_count": 7,
     "metadata": {},
     "output_type": "execute_result"
    }
   ],
   "source": [
    "df['Status'].value_counts()"
   ]
  },
  {
   "cell_type": "code",
   "execution_count": 8,
   "metadata": {},
   "outputs": [],
   "source": [
    "df.replace(['Joined','Not Joined'],[0,1],inplace=True)"
   ]
  },
  {
   "cell_type": "code",
   "execution_count": 9,
   "metadata": {},
   "outputs": [],
   "source": [
    "x=df.iloc[:,:-1] #independent\n",
    "y=df.iloc[:,-1] #dependent"
   ]
  },
  {
   "cell_type": "markdown",
   "metadata": {},
   "source": [
    "# dropping the high co_relaion variables"
   ]
  },
  {
   "cell_type": "code",
   "execution_count": null,
   "metadata": {},
   "outputs": [],
   "source": [
    "df.drop(['SLNO','Candidate.Ref','Pecent.hike.expected.in.CTC','Percent.hike.offered.in.CTC'],axis=1,inplace=True)"
   ]
  },
  {
   "cell_type": "code",
   "execution_count": null,
   "metadata": {},
   "outputs": [],
   "source": []
  },
  {
   "cell_type": "code",
   "execution_count": 11,
   "metadata": {},
   "outputs": [
    {
     "data": {
      "text/plain": [
       "0    0\n",
       "1    0\n",
       "2    0\n",
       "3    0\n",
       "4    0\n",
       "Name: Status, dtype: int64"
      ]
     },
     "execution_count": 11,
     "metadata": {},
     "output_type": "execute_result"
    }
   ],
   "source": [
    "y.head()"
   ]
  },
  {
   "cell_type": "code",
   "execution_count": 12,
   "metadata": {},
   "outputs": [],
   "source": [
    "xd=pd.get_dummies(x,drop_first=True)"
   ]
  },
  {
   "cell_type": "code",
   "execution_count": 13,
   "metadata": {},
   "outputs": [],
   "source": [
    "import statsmodels.api as sm"
   ]
  },
  {
   "cell_type": "code",
   "execution_count": 14,
   "metadata": {},
   "outputs": [
    {
     "name": "stdout",
     "output_type": "stream",
     "text": [
      "                 Generalized Linear Model Regression Results                  \n",
      "==============================================================================\n",
      "Dep. Variable:                 Status   No. Observations:                 8995\n",
      "Model:                            GLM   Df Residuals:                     8959\n",
      "Model Family:                Gaussian   Df Model:                           35\n",
      "Link Function:               identity   Scale:                         0.13752\n",
      "Method:                          IRLS   Log-Likelihood:                -3822.3\n",
      "Date:                Wed, 23 Oct 2019   Deviance:                       1232.0\n",
      "Time:                        08:00:25   Pearson chi2:                 1.23e+03\n",
      "No. Iterations:                     3   Covariance Type:             nonrobust\n",
      "======================================================================================================\n",
      "                                         coef    std err          z      P>|z|      [0.025      0.975]\n",
      "------------------------------------------------------------------------------------------------------\n",
      "SLNO                                -4.46e-06    2.7e-06     -1.649      0.099   -9.76e-06     8.4e-07\n",
      "Candidate.Ref                       3.366e-08   1.86e-08      1.807      0.071   -2.85e-09    7.02e-08\n",
      "Duration.to.accept.offer           -5.442e-05      0.000     -0.311      0.756      -0.000       0.000\n",
      "Notice.period                          0.0030      0.000     15.349      0.000       0.003       0.003\n",
      "Pecent.hike.expected.in.CTC            0.0004      0.001      0.756      0.449      -0.001       0.001\n",
      "Percent.hike.offered.in.CTC           -0.0006      0.001     -1.066      0.287      -0.002       0.000\n",
      "Percent.difference.CTC                 0.0003      0.001      0.407      0.684      -0.001       0.002\n",
      "Rex.in.Yrs                             0.0048      0.003      1.764      0.078      -0.001       0.010\n",
      "Age                                   -0.0042      0.001     -3.207      0.001      -0.007      -0.002\n",
      "DOJ.Extended_Yes                      -0.0294      0.009     -3.399      0.001      -0.046      -0.012\n",
      "Offered.band_E1                       -0.1429      0.028     -5.081      0.000      -0.198      -0.088\n",
      "Offered.band_E2                       -0.1255      0.031     -4.112      0.000      -0.185      -0.066\n",
      "Offered.band_E3                       -0.1622      0.038     -4.268      0.000      -0.237      -0.088\n",
      "Joining.Bonus_Yes                      0.0161      0.019      0.828      0.408      -0.022       0.054\n",
      "Candidate.relocate.actual_Yes         -0.2100      0.012    -18.208      0.000      -0.233      -0.187\n",
      "Gender_Male                            0.0217      0.011      2.045      0.041       0.001       0.042\n",
      "Candidate.Source_Direct               -0.0500      0.010     -5.214      0.000      -0.069      -0.031\n",
      "Candidate.Source_Employee Referral    -0.0887      0.012     -7.180      0.000      -0.113      -0.064\n",
      "LOB_BFSI                              -0.0525      0.020     -2.585      0.010      -0.092      -0.013\n",
      "LOB_CSMP                              -0.0457      0.023     -2.027      0.043      -0.090      -0.002\n",
      "LOB_EAS                                0.0355      0.026      1.347      0.178      -0.016       0.087\n",
      "LOB_ERS                               -0.0344      0.019     -1.824      0.068      -0.071       0.003\n",
      "LOB_ETS                               -0.0656      0.022     -3.036      0.002      -0.108      -0.023\n",
      "LOB_Healthcare                        -0.0834      0.037     -2.232      0.026      -0.157      -0.010\n",
      "LOB_INFRA                             -0.0969      0.020     -4.964      0.000      -0.135      -0.059\n",
      "LOB_MMS                               -0.2956      0.098     -3.030      0.002      -0.487      -0.104\n",
      "Location_Bangalore                     0.3770      0.056      6.718      0.000       0.267       0.487\n",
      "Location_Chennai                       0.3925      0.056      7.007      0.000       0.283       0.502\n",
      "Location_Cochin                        0.3597      0.143      2.511      0.012       0.079       0.641\n",
      "Location_Gurgaon                       0.3746      0.064      5.898      0.000       0.250       0.499\n",
      "Location_Hyderabad                     0.3692      0.059      6.287      0.000       0.254       0.484\n",
      "Location_Kolkata                       0.3806      0.063      6.048      0.000       0.257       0.504\n",
      "Location_Mumbai                        0.3353      0.063      5.342      0.000       0.212       0.458\n",
      "Location_Noida                         0.3411      0.055      6.160      0.000       0.233       0.450\n",
      "Location_Others                        0.2736      0.119      2.300      0.021       0.040       0.507\n",
      "Location_Pune                          0.3777      0.078      4.856      0.000       0.225       0.530\n",
      "======================================================================================================\n"
     ]
    }
   ],
   "source": [
    "model=sm.GLM(y,xd).fit()\n",
    "print(model.summary())"
   ]
  },
  {
   "cell_type": "markdown",
   "metadata": {},
   "source": [
    "# Feature engineering"
   ]
  },
  {
   "cell_type": "code",
   "execution_count": 15,
   "metadata": {},
   "outputs": [
    {
     "data": {
      "text/plain": [
       "Candidate.relocate.actual_Yes         4.476720e-74\n",
       "Notice.period                         3.569638e-53\n",
       "Candidate.Source_Employee Referral    6.950800e-13\n",
       "Location_Chennai                      2.428081e-12\n",
       "Location_Bangalore                    1.836981e-11\n",
       "Location_Hyderabad                    3.234541e-10\n",
       "Location_Noida                        7.290371e-10\n",
       "Location_Kolkata                      1.463496e-09\n",
       "Location_Gurgaon                      3.686728e-09\n",
       "Location_Mumbai                       9.206258e-08\n",
       "Candidate.Source_Direct               1.851964e-07\n",
       "Offered.band_E1                       3.757927e-07\n",
       "LOB_INFRA                             6.895900e-07\n",
       "Location_Pune                         1.194870e-06\n",
       "Offered.band_E3                       1.972042e-05\n",
       "Offered.band_E2                       3.917096e-05\n",
       "DOJ.Extended_Yes                      6.764918e-04\n",
       "Age                                   1.342747e-03\n",
       "LOB_ETS                               2.401145e-03\n",
       "LOB_MMS                               2.442059e-03\n",
       "LOB_BFSI                              9.732585e-03\n",
       "Location_Cochin                       1.205007e-02\n",
       "Location_Others                       2.146759e-02\n",
       "dtype: float64"
      ]
     },
     "execution_count": 15,
     "metadata": {},
     "output_type": "execute_result"
    }
   ],
   "source": [
    "features=model.pvalues.sort_values(ascending=True)\n",
    "features[features<0.025]"
   ]
  },
  {
   "cell_type": "code",
   "execution_count": 16,
   "metadata": {},
   "outputs": [],
   "source": [
    "selected_features=list(features[features<0.025].index) + ['Status_Not Joined']\n",
    "a=df_dum[selected_features]"
   ]
  },
  {
   "cell_type": "code",
   "execution_count": 17,
   "metadata": {},
   "outputs": [
    {
     "name": "stdout",
     "output_type": "stream",
     "text": [
      "<class 'pandas.core.frame.DataFrame'>\n",
      "RangeIndex: 8995 entries, 0 to 8994\n",
      "Data columns (total 24 columns):\n",
      "Candidate.relocate.actual_Yes         8995 non-null uint8\n",
      "Notice.period                         8995 non-null int64\n",
      "Candidate.Source_Employee Referral    8995 non-null uint8\n",
      "Location_Chennai                      8995 non-null uint8\n",
      "Location_Bangalore                    8995 non-null uint8\n",
      "Location_Hyderabad                    8995 non-null uint8\n",
      "Location_Noida                        8995 non-null uint8\n",
      "Location_Kolkata                      8995 non-null uint8\n",
      "Location_Gurgaon                      8995 non-null uint8\n",
      "Location_Mumbai                       8995 non-null uint8\n",
      "Candidate.Source_Direct               8995 non-null uint8\n",
      "Offered.band_E1                       8995 non-null uint8\n",
      "LOB_INFRA                             8995 non-null uint8\n",
      "Location_Pune                         8995 non-null uint8\n",
      "Offered.band_E3                       8995 non-null uint8\n",
      "Offered.band_E2                       8995 non-null uint8\n",
      "DOJ.Extended_Yes                      8995 non-null uint8\n",
      "Age                                   8995 non-null int64\n",
      "LOB_ETS                               8995 non-null uint8\n",
      "LOB_MMS                               8995 non-null uint8\n",
      "LOB_BFSI                              8995 non-null uint8\n",
      "Location_Cochin                       8995 non-null uint8\n",
      "Location_Others                       8995 non-null uint8\n",
      "Status_Not Joined                     8995 non-null uint8\n",
      "dtypes: int64(2), uint8(22)\n",
      "memory usage: 333.9 KB\n"
     ]
    }
   ],
   "source": [
    "a.info()"
   ]
  },
  {
   "cell_type": "code",
   "execution_count": 18,
   "metadata": {},
   "outputs": [],
   "source": [
    "x=a.iloc[:,:-1]\n",
    "y=a.iloc[:,-1]"
   ]
  },
  {
   "cell_type": "markdown",
   "metadata": {},
   "source": [
    "# Building the logistic reggression model"
   ]
  },
  {
   "cell_type": "code",
   "execution_count": 19,
   "metadata": {},
   "outputs": [],
   "source": [
    "from sklearn.linear_model import LogisticRegression"
   ]
  },
  {
   "cell_type": "code",
   "execution_count": 20,
   "metadata": {},
   "outputs": [],
   "source": [
    "model1=LogisticRegression()"
   ]
  },
  {
   "cell_type": "code",
   "execution_count": 22,
   "metadata": {},
   "outputs": [],
   "source": [
    "import innomatic"
   ]
  },
  {
   "cell_type": "code",
   "execution_count": 23,
   "metadata": {},
   "outputs": [],
   "source": [
    "# Train test split\n",
    "from sklearn.model_selection import train_test_split\n",
    "x_train,x_test,y_train,y_test=train_test_split(x,y,test_size=0.2)"
   ]
  },
  {
   "cell_type": "code",
   "execution_count": 24,
   "metadata": {},
   "outputs": [
    {
     "data": {
      "text/plain": [
       "((7196, 23), (1799, 23), (7196,), (1799,))"
      ]
     },
     "execution_count": 24,
     "metadata": {},
     "output_type": "execute_result"
    }
   ],
   "source": [
    "x_train.shape,x_test.shape,y_train.shape,y_test.shape"
   ]
  },
  {
   "cell_type": "code",
   "execution_count": 25,
   "metadata": {},
   "outputs": [],
   "source": [
    "model1=LogisticRegression()"
   ]
  },
  {
   "cell_type": "code",
   "execution_count": 26,
   "metadata": {},
   "outputs": [
    {
     "data": {
      "text/plain": [
       "LogisticRegression(C=1.0, class_weight=None, dual=False, fit_intercept=True,\n",
       "                   intercept_scaling=1, l1_ratio=None, max_iter=100,\n",
       "                   multi_class='warn', n_jobs=None, penalty='l2',\n",
       "                   random_state=None, solver='warn', tol=0.0001, verbose=0,\n",
       "                   warm_start=False)"
      ]
     },
     "execution_count": 26,
     "metadata": {},
     "output_type": "execute_result"
    }
   ],
   "source": [
    "model1.fit(x_train,y_train)"
   ]
  },
  {
   "cell_type": "code",
   "execution_count": 27,
   "metadata": {},
   "outputs": [],
   "source": [
    "y_pred=model1.predict(x_test)\n",
    "y_pred_prob=model1.predict_proba(x_test)[:,1]"
   ]
  },
  {
   "cell_type": "markdown",
   "metadata": {},
   "source": [
    "** Kappa score **\n",
    "** Confusion matrix **\n",
    "** Auc curve **"
   ]
  },
  {
   "cell_type": "code",
   "execution_count": 30,
   "metadata": {},
   "outputs": [
    {
     "data": {
      "image/png": "[encoded data removed]",
      "text/plain": [
       "<Figure size 720x432 with 1 Axes>"
      ]
     },
     "metadata": {
      "needs_background": "light"
     },
     "output_type": "display_data"
    },
    {
     "name": "stdout",
     "output_type": "stream",
     "text": [
      "******************************Classifcation Report******************************\n",
      "\n",
      "\n",
      "              precision    recall  f1-score   support\n",
      "\n",
      "           0       0.82      0.99      0.90      1467\n",
      "           1       0.54      0.06      0.10       332\n",
      "\n",
      "    accuracy                           0.82      1799\n",
      "   macro avg       0.68      0.52      0.50      1799\n",
      "weighted avg       0.77      0.82      0.75      1799\n",
      "\n",
      "\n",
      "************************************Kappa Score************************************\n",
      "\n",
      "\n",
      "Kappa Score = 0.0708359432521235\n",
      "\n",
      "******************************Area Under Curve Score******************************\n",
      "\n",
      "\n",
      "AUC Score = 0.5231611517645223\n",
      "Number of probabilities to build ROC = 677\n"
     ]
    },
    {
     "data": {
      "image/png": "[encoded data removed]",
      "text/plain": [
       "<Figure size 576x360 with 1 Axes>"
      ]
     },
     "metadata": {
      "needs_background": "light"
     },
     "output_type": "display_data"
    }
   ],
   "source": [
    "innomatic.classification_metric(y_test,y_pred,y_pred_prob,['no','yes'],n=50,verbose=True)"
   ]
  },
  {
   "cell_type": "markdown",
   "metadata": {},
   "source": [
    "# Balancing data using SMOTE"
   ]
  },
  {
   "cell_type": "code",
   "execution_count": 31,
   "metadata": {},
   "outputs": [],
   "source": [
    "import imblearn\n",
    "from imblearn.over_sampling import SMOTE"
   ]
  },
  {
   "cell_type": "code",
   "execution_count": 32,
   "metadata": {},
   "outputs": [],
   "source": [
    "x_resample,y_resample=SMOTE(k_neighbors=7).fit_resample(x,y)"
   ]
  },
  {
   "cell_type": "code",
   "execution_count": 33,
   "metadata": {},
   "outputs": [
    {
     "data": {
      "text/plain": [
       "1    7313\n",
       "0    7313\n",
       "dtype: int64"
      ]
     },
     "execution_count": 33,
     "metadata": {},
     "output_type": "execute_result"
    },
    {
     "data": {
      "image/png": "[encoded data removed]",
      "text/plain": [
       "<Figure size 432x288 with 1 Axes>"
      ]
     },
     "metadata": {
      "needs_background": "light"
     },
     "output_type": "display_data"
    }
   ],
   "source": [
    "pd.Series(y_resample).value_counts().plot('bar')\n",
    "pd.Series(y_resample).value_counts()"
   ]
  },
  {
   "cell_type": "code",
   "execution_count": 34,
   "metadata": {},
   "outputs": [
    {
     "data": {
      "text/plain": [
       "((11700, 23), (2926, 23), (11700,), (2926,))"
      ]
     },
     "execution_count": 34,
     "metadata": {},
     "output_type": "execute_result"
    }
   ],
   "source": [
    "x_train,x_test,y_train,y_test=train_test_split(x_resample,y_resample,test_size=0.2)\n",
    "x_train.shape,x_test.shape,y_train.shape,y_test.shape"
   ]
  },
  {
   "cell_type": "code",
   "execution_count": 35,
   "metadata": {},
   "outputs": [
    {
     "data": {
      "text/plain": [
       "LogisticRegression(C=1.0, class_weight=None, dual=False, fit_intercept=True,\n",
       "                   intercept_scaling=1, l1_ratio=None, max_iter=100,\n",
       "                   multi_class='warn', n_jobs=None, penalty='l2',\n",
       "                   random_state=None, solver='warn', tol=0.0001, verbose=0,\n",
       "                   warm_start=False)"
      ]
     },
     "execution_count": 35,
     "metadata": {},
     "output_type": "execute_result"
    }
   ],
   "source": [
    "model2=LogisticRegression()\n",
    "model2.fit(x_train,y_train)"
   ]
  },
  {
   "cell_type": "code",
   "execution_count": 36,
   "metadata": {},
   "outputs": [],
   "source": [
    "y_pred=model2.predict(x_test)\n",
    "y_pred_prob=model2.predict_proba(x_test)[:,1]\n",
    "threshold = 0.3925\n",
    "y_pred = (y_pred_prob >= threshold).astype(int)"
   ]
  },
  {
   "cell_type": "code",
   "execution_count": 37,
   "metadata": {},
   "outputs": [],
   "source": [
    "import numpy as np\n",
    "from sklearn.metrics import confusion_matrix, classification_report\n",
    "from sklearn.metrics import cohen_kappa_score, roc_auc_score\n",
    "from sklearn.metrics import roc_curve, auc\n",
    "import matplotlib.pyplot as plt\n",
    "import seaborn as sns\n",
    "from sklearn.metrics import log_loss\n",
    "def classification_metric(y_test,y_pred,y_prob,label,n=1,verbose=False):\n",
    "    \"\"\"\n",
    "    Note: only for binary classification\n",
    "    confusionmatrix(y_true,y_pred,labels=['No','Yes'])\n",
    "    \"\"\"\n",
    "    # confusion matrix\n",
    "    cm = confusion_matrix(y_test,y_pred)\n",
    "    print('FP-FN Ratio: ',cm[0][1]/cm[1][0])\n",
    "    row_sum = cm.sum(axis=0)\n",
    "    cm = np.append(cm,row_sum.reshape(1,-1),axis=0)\n",
    "    col_sum = cm.sum(axis=1)\n",
    "    cm = np.append(cm,col_sum.reshape(-1,1),axis=1)\n",
    "\n",
    "    labels = label+['Total']\n",
    "    plt.figure(figsize=(10,6))\n",
    "    sns.heatmap(cm,annot=True,cmap='summer',fmt='0.2f',xticklabels=labels,\n",
    "                yticklabels=labels,linewidths=3,cbar=None,)\n",
    "\n",
    "    plt.xlabel('Predicted Values')\n",
    "    plt.ylabel('Actual Values')\n",
    "    plt.title('Confusion Matrix')\n",
    "    plt.show()\n",
    "    \n",
    "    print('*'*30+'Classifcation Report'+'*'*30+'\\n\\n')\n",
    "    cr = classification_report(y_test,y_pred)\n",
    "    print(cr)\n",
    "    \n",
    "    print('\\n'+'*'*36+'Kappa Score'+'*'*36+'\\n\\n')\n",
    "    # Kappa score\n",
    "    kappa = cohen_kappa_score(y_test,y_pred) # Kappa Score\n",
    "    print('Kappa Score =',kappa)\n",
    "    \n",
    "    print('\\n'+'*'*30+'Area Under Curve Score'+'*'*30+'\\n\\n')\n",
    "    # Kappa score\n",
    "    roc_a = roc_auc_score(y_test,y_pred) # Kappa Score\n",
    "    print('AUC Score =',roc_a)\n",
    "    \n",
    "    # ROC\n",
    "    plt.figure(figsize=(8,5))\n",
    "    fpr,tpr, thresh = roc_curve(y_test,y_prob)\n",
    "    plt.plot(fpr,tpr,'r')\n",
    "    print('Number of probabilities to build ROC =',len(fpr))\n",
    "    if verbose == True:\n",
    "        for i in range(len(thresh)):\n",
    "            if i%n == 0:\n",
    "                plt.text(fpr[i],tpr[i],'%0.2f'%thresh[i])\n",
    "                plt.plot(fpr[i],tpr[i],'v')\n",
    "\n",
    "\n",
    "    plt.xlabel('False Positive Rate')\n",
    "    plt.ylabel('True Positive Rate')\n",
    "    plt.title('Receiver Operating Characterstic')\n",
    "    plt.legend(['AUC = {}'.format(roc_a)])\n",
    "    plt.plot([0,1],[0,1],'b--',linewidth=2.0)\n",
    "    plt.grid()\n",
    "    plt.show()\n",
    "    \n",
    "    \n",
    "class threshold():\n",
    "    '''\n",
    "    Setting up the threshold points\n",
    "    '''\n",
    "    def __init__(self):\n",
    "        self.th = 0.5\n",
    "        \n",
    "    def predict_threshold(self,y):\n",
    "        if y >= self.th:\n",
    "            return 1\n",
    "        else:#\n",
    "            return 0"
   ]
  },
  {
   "cell_type": "code",
   "execution_count": 38,
   "metadata": {},
   "outputs": [
    {
     "name": "stdout",
     "output_type": "stream",
     "text": [
      "FP-FN Ratio:  3.269662921348315\n"
     ]
    },
    {
     "data": {
      "image/png": "[encoded data removed]",
      "text/plain": [
       "<Figure size 720x432 with 1 Axes>"
      ]
     },
     "metadata": {
      "needs_background": "light"
     },
     "output_type": "display_data"
    },
    {
     "name": "stdout",
     "output_type": "stream",
     "text": [
      "******************************Classifcation Report******************************\n",
      "\n",
      "\n",
      "              precision    recall  f1-score   support\n",
      "\n",
      "           0       0.83      0.60      0.70      1449\n",
      "           1       0.69      0.88      0.77      1477\n",
      "\n",
      "    accuracy                           0.74      2926\n",
      "   macro avg       0.76      0.74      0.73      2926\n",
      "weighted avg       0.76      0.74      0.73      2926\n",
      "\n",
      "\n",
      "************************************Kappa Score************************************\n",
      "\n",
      "\n",
      "Kappa Score = 0.479095270733379\n",
      "\n",
      "******************************Area Under Curve Score******************************\n",
      "\n",
      "\n",
      "AUC Score = 0.7389145643833466\n",
      "Number of probabilities to build ROC = 1041\n"
     ]
    },
    {
     "data": {
      "image/png": "[encoded data removed]",
      "text/plain": [
       "<Figure size 576x360 with 1 Axes>"
      ]
     },
     "metadata": {
      "needs_background": "light"
     },
     "output_type": "display_data"
    }
   ],
   "source": [
    "classification_metric(y_test,y_pred,y_pred_prob,['0','1'],n=50,verbose=True)"
   ]
  },
  {
   "cell_type": "markdown",
   "metadata": {},
   "source": [
    "- from above confusion matrix false postive is three times of false negative"
   ]
  },
  {
   "cell_type": "code",
   "execution_count": null,
   "metadata": {},
   "outputs": [],
   "source": []
  },
  {
   "cell_type": "code",
   "execution_count": null,
   "metadata": {},
   "outputs": [],
   "source": []
  },
  {
   "cell_type": "code",
   "execution_count": null,
   "metadata": {},
   "outputs": [],
   "source": []
  },
  {
   "cell_type": "code",
   "execution_count": null,
   "metadata": {},
   "outputs": [],
   "source": []
  },
  {
   "cell_type": "code",
   "execution_count": null,
   "metadata": {},
   "outputs": [],
   "source": []
  }
 ],
 "metadata": {
  "kernelspec": {
   "display_name": "Python 3",
   "language": "python",
   "name": "python3"
  },
  "language_info": {
   "codemirror_mode": {
    "name": "ipython",
    "version": 3
   },
   "file_extension": ".py",
   "mimetype": "text/x-python",
   "name": "python",
   "nbconvert_exporter": "python",
   "pygments_lexer": "ipython3",
   "version": "3.7.1"
  }
 },
 "nbformat": 4,
 "nbformat_minor": 2
}
